{
 "cells": [
  {
   "attachments": {},
   "cell_type": "markdown",
   "metadata": {},
   "source": [
    "# Language moddeling with PyTorch"
   ]
  },
  {
   "attachments": {},
   "cell_type": "markdown",
   "metadata": {},
   "source": [
    "Import necessary modules:"
   ]
  },
  {
   "cell_type": "code",
   "execution_count": 1,
   "metadata": {},
   "outputs": [],
   "source": [
    "import torch\n",
    "from torch.utils.data import Dataset, DataLoader\n",
    "from torch.distributions.categorical import Categorical\n",
    "import torch.nn as nn\n",
    "import numpy as np"
   ]
  },
  {
   "cell_type": "code",
   "execution_count": 2,
   "metadata": {},
   "outputs": [
    {
     "data": {
      "text/plain": [
       "'cuda'"
      ]
     },
     "execution_count": 2,
     "metadata": {},
     "output_type": "execute_result"
    }
   ],
   "source": [
    "device = 'cuda' if torch.cuda.is_available() else 'cpu'\n",
    "device"
   ]
  },
  {
   "attachments": {},
   "cell_type": "markdown",
   "metadata": {},
   "source": [
    "Text preprocessing:"
   ]
  },
  {
   "cell_type": "code",
   "execution_count": 3,
   "metadata": {},
   "outputs": [
    {
     "name": "stdout",
     "output_type": "stream",
     "text": [
      "Text length: 1340256\n",
      "Unique characters: 97\n"
     ]
    }
   ],
   "source": [
    "text = ''\n",
    "\n",
    "files = [\n",
    "    '1056-0.txt', \n",
    "    '1074-0.txt',\n",
    "    '215-0.txt'\n",
    "]\n",
    "\n",
    "for file_path in files:\n",
    "    with open(file_path, 'r', encoding='utf8') as f:\n",
    "        file_text = ' '.join(f.read().split())\n",
    "\n",
    "        start_index = file_text.find('START OF THE PROJECT GUTENBERG')\n",
    "        end_index = file_text.find('END OF THE PROJECT GUTENBERG')\n",
    "\n",
    "        file_text = file_text[start_index:end_index]\n",
    "        text += file_text\n",
    "        \n",
    "chars = set(text)\n",
    "\n",
    "print(f'Text length: {len(text)}')\n",
    "print(f'Unique characters: {len(chars)}')"
   ]
  },
  {
   "attachments": {},
   "cell_type": "markdown",
   "metadata": {},
   "source": [
    "Map characters to integers:"
   ]
  },
  {
   "cell_type": "code",
   "execution_count": 4,
   "metadata": {},
   "outputs": [
    {
     "name": "stdout",
     "output_type": "stream",
     "text": [
      "Encoded text shape: (1340256,)\n"
     ]
    }
   ],
   "source": [
    "chars_sorted = sorted(chars)\n",
    "char_to_int = {char: i for i, char in enumerate(chars_sorted)}\n",
    "char_array = np.array(chars_sorted)\n",
    "text_encoded = np.array(\n",
    "    [char_to_int[ch] for ch in text],\n",
    "    dtype=np.int32\n",
    ")\n",
    "print(f'Encoded text shape: {text_encoded.shape}')"
   ]
  },
  {
   "cell_type": "code",
   "execution_count": 5,
   "metadata": {},
   "outputs": [
    {
     "name": "stdout",
     "output_type": "stream",
     "text": [
      "The Sea-Wolf ===> [44, 61, 58, 0, 43, 58, 54, 10, 47, 68, 65, 59]\n",
      "REVERSE\n",
      "[44, 61, 58, 0, 43, 58, 54, 10, 47, 68, 65, 59] ===> The Sea-Wolf\n"
     ]
    }
   ],
   "source": [
    "message_to_encode = 'The Sea-Wolf'\n",
    "\n",
    "encoded_message = [char_to_int[char] for char in message_to_encode]\n",
    "\n",
    "print(f'{message_to_encode} ===> {encoded_message}')\n",
    "\n",
    "decoded_message = ''.join([char_array[index] for index in encoded_message])\n",
    "\n",
    "print(f'REVERSE\\n'\n",
    "      f'{encoded_message} ===> {decoded_message}')"
   ]
  },
  {
   "attachments": {},
   "cell_type": "markdown",
   "metadata": {},
   "source": [
    "Split the text into chunks and set up the `Dataset`: "
   ]
  },
  {
   "cell_type": "code",
   "execution_count": 6,
   "metadata": {},
   "outputs": [],
   "source": [
    "seq_len = 40\n",
    "chunk_size = seq_len + 1\n",
    "text_chunks = [text_encoded[i:i+chunk_size]\n",
    "               for i in range(len(text_encoded) - chunk_size)]\n",
    "\n",
    "class TextDataset(Dataset):\n",
    "    def __init__(self, text_chunks):\n",
    "        self.text_chunks = text_chunks\n",
    "\n",
    "    def __len__(self):\n",
    "        return len(self.text_chunks)\n",
    "    \n",
    "    def __getitem__(self, item):\n",
    "        text_chunk = self.text_chunks[item]\n",
    "        return text_chunk[:-1].long(), text_chunk[1:].long()\n",
    "    \n",
    "seq_dataset = TextDataset(\n",
    "    torch.tensor(\n",
    "        np.array(text_chunks)\n",
    "    )\n",
    ")"
   ]
  },
  {
   "attachments": {},
   "cell_type": "markdown",
   "metadata": {},
   "source": [
    "Set up the `DataLoader`:"
   ]
  },
  {
   "cell_type": "code",
   "execution_count": 7,
   "metadata": {},
   "outputs": [],
   "source": [
    "batch_size = 64\n",
    "seq_loader = DataLoader(\n",
    "    seq_dataset, batch_size=batch_size,\n",
    "    shuffle=True, drop_last=True\n",
    ")"
   ]
  },
  {
   "attachments": {},
   "cell_type": "markdown",
   "metadata": {},
   "source": [
    "Build the RNN model:"
   ]
  },
  {
   "cell_type": "code",
   "execution_count": 8,
   "metadata": {},
   "outputs": [],
   "source": [
    "class TextGenerationNet(nn.Module):\n",
    "    def __init__(self, vocab_size, embed_dim, rnn_hidden_size):\n",
    "        super().__init__()\n",
    "\n",
    "        self.embedding = nn.Embedding(vocab_size, embed_dim)\n",
    "        self.rnn_hidden_size = rnn_hidden_size\n",
    "        self.rnn = nn.LSTM(embed_dim, rnn_hidden_size,\n",
    "                           batch_first=True)\n",
    "        self.fc = nn.Linear(rnn_hidden_size, vocab_size)\n",
    "\n",
    "    def forward(self, x, hidden, cell):\n",
    "        out = self.embedding(x).unsqueeze(1)\n",
    "        out, (hidden, cell) = self.rnn(out, (hidden, cell))\n",
    "        out = self.fc(out).reshape(out.size(0), -1)\n",
    "        return out, hidden, cell\n",
    "    \n",
    "    def init_hidden(self, batch_size):\n",
    "        hidden = torch.zeros(1, batch_size, self.rnn_hidden_size)\n",
    "        cell = torch.zeros(1, batch_size, self.rnn_hidden_size)\n",
    "        return hidden.to(device), cell.to(device)"
   ]
  },
  {
   "cell_type": "code",
   "execution_count": 9,
   "metadata": {},
   "outputs": [
    {
     "data": {
      "text/plain": [
       "TextGenerationNet(\n",
       "  (embedding): Embedding(97, 256)\n",
       "  (rnn): LSTM(256, 512, batch_first=True)\n",
       "  (fc): Linear(in_features=512, out_features=97, bias=True)\n",
       ")"
      ]
     },
     "execution_count": 9,
     "metadata": {},
     "output_type": "execute_result"
    }
   ],
   "source": [
    "vocab_size = len(char_array)\n",
    "embed_dim = 256\n",
    "rnn_hidden_size = 512\n",
    "\n",
    "model = TextGenerationNet(vocab_size, embed_dim, rnn_hidden_size).to(device)\n",
    "model"
   ]
  },
  {
   "cell_type": "code",
   "execution_count": 10,
   "metadata": {},
   "outputs": [
    {
     "name": "stdout",
     "output_type": "stream",
     "text": [
      "Epoch 0 loss: 4.5942\n",
      "Epoch 250 loss: 1.6008\n",
      "Epoch 500 loss: 1.4895\n",
      "Epoch 750 loss: 1.4544\n",
      "Epoch 1000 loss: 1.4028\n",
      "Epoch 1250 loss: 1.4184\n",
      "Epoch 1500 loss: 1.2880\n",
      "Epoch 1750 loss: 1.2823\n",
      "Epoch 2000 loss: 1.2993\n",
      "Epoch 2250 loss: 1.3498\n",
      "Epoch 2500 loss: 1.2856\n",
      "Epoch 2750 loss: 1.3110\n",
      "Epoch 3000 loss: 1.2731\n",
      "Epoch 3250 loss: 1.2899\n",
      "Epoch 3500 loss: 1.3153\n",
      "Epoch 3750 loss: 1.2897\n",
      "Epoch 4000 loss: 1.2916\n",
      "Epoch 4250 loss: 1.2909\n",
      "Epoch 4500 loss: 1.2816\n",
      "Epoch 4750 loss: 1.2276\n",
      "Epoch 5000 loss: 1.2772\n",
      "Epoch 5250 loss: 1.2752\n",
      "Epoch 5500 loss: 1.3032\n",
      "Epoch 5750 loss: 1.3307\n",
      "Epoch 6000 loss: 1.3222\n",
      "Epoch 6250 loss: 1.2488\n",
      "Epoch 6500 loss: 1.2474\n",
      "Epoch 6750 loss: 1.2712\n",
      "Epoch 7000 loss: 1.2367\n",
      "Epoch 7250 loss: 1.2242\n",
      "Epoch 7500 loss: 1.2726\n",
      "Epoch 7750 loss: 1.2036\n",
      "Epoch 8000 loss: 1.2346\n",
      "Epoch 8250 loss: 1.2676\n",
      "Epoch 8500 loss: 1.2737\n",
      "Epoch 8750 loss: 1.2713\n",
      "Epoch 9000 loss: 1.2578\n",
      "Epoch 9250 loss: 1.2628\n",
      "Epoch 9500 loss: 1.2869\n",
      "Epoch 9750 loss: 1.2562\n"
     ]
    }
   ],
   "source": [
    "loss = nn.CrossEntropyLoss()\n",
    "optimizer = torch.optim.Adam(model.parameters(), lr=0.005)\n",
    "\n",
    "n_epochs = 10_000\n",
    "\n",
    "for epoch in range(n_epochs):\n",
    "    hidden, cell = model.init_hidden(batch_size)\n",
    "    seq_batch, target_batch = next(iter(seq_loader))\n",
    "\n",
    "    seq_batch = seq_batch.to(device)\n",
    "    target_batch = target_batch.to(device)\n",
    "\n",
    "    optimizer.zero_grad()\n",
    "    loss_val = 0.\n",
    "\n",
    "    for c in range(seq_len):\n",
    "        pred, hidden, cell = model(\n",
    "            seq_batch[:, c], hidden, cell\n",
    "        )\n",
    "        loss_val += loss(pred, target_batch[:, c])\n",
    "\n",
    "    loss_val.backward()\n",
    "    optimizer.step()\n",
    "\n",
    "    loss_val = loss_val.item() / seq_len\n",
    "    if epoch % 250 == 0:\n",
    "        print(f'Epoch {epoch} loss: {loss_val:.4f}')"
   ]
  },
  {
   "cell_type": "code",
   "execution_count": 11,
   "metadata": {},
   "outputs": [],
   "source": [
    "def sample(model, input_string, generate_len=500, scale_factor=1.0):\n",
    "    encoded_input = torch.tensor(\n",
    "        [char_to_int[c] for c in input_string]\n",
    "    ).to(device)\n",
    "    encoded_input = torch.reshape(\n",
    "        encoded_input, (1, -1)\n",
    "    )\n",
    "    generated_string = input_string\n",
    "    model.eval()\n",
    "    hidden, cell = model.init_hidden(1)\n",
    "    for c in range(len(input_string)-1):\n",
    "        _, hidden, cell = model(\n",
    "            encoded_input[:, c].view(1), hidden, cell\n",
    "        )\n",
    "\n",
    "    last_char = encoded_input[:, -1]\n",
    "    for i in range(generate_len):\n",
    "        logits, hidden, cell = model(\n",
    "            last_char.view(1), hidden, cell\n",
    "        )\n",
    "        logits = torch.squeeze(logits, 0)\n",
    "        scaled_logits = logits * scale_factor\n",
    "        m = Categorical(logits=scaled_logits)\n",
    "        last_char = m.sample()\n",
    "        generated_string += str(char_array[last_char])\n",
    "        \n",
    "    return generated_string"
   ]
  },
  {
   "cell_type": "code",
   "execution_count": 16,
   "metadata": {},
   "outputs": [],
   "source": [
    "input_string = ' '.join('''\n",
    "This sympathy comes to us\n",
    "'''.split())\n",
    "\n",
    "with open('output.txt', 'w') as out:\n",
    "    print(sample(model, input_string, generate_len=1000), file=out)"
   ]
  },
  {
   "cell_type": "code",
   "execution_count": 17,
   "metadata": {},
   "outputs": [],
   "source": [
    "torch.save(model.state_dict(), '../model/model.pt')"
   ]
  }
 ],
 "metadata": {
  "kernelspec": {
   "display_name": "deep-learning-env",
   "language": "python",
   "name": "python3"
  },
  "language_info": {
   "codemirror_mode": {
    "name": "ipython",
    "version": 3
   },
   "file_extension": ".py",
   "mimetype": "text/x-python",
   "name": "python",
   "nbconvert_exporter": "python",
   "pygments_lexer": "ipython3",
   "version": "3.10.9"
  },
  "orig_nbformat": 4
 },
 "nbformat": 4,
 "nbformat_minor": 2
}
